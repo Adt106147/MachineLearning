{
 "cells": [
  {
   "cell_type": "markdown",
   "metadata": {},
   "source": [
    "# 爬取資料(操作UI) :"
   ]
  },
  {
   "cell_type": "code",
   "execution_count": null,
   "metadata": {},
   "outputs": [],
   "source": [
    "from finlab.crawler import (\n",
    "    widget, \n",
    "    \n",
    "    crawl_price, \n",
    "    crawl_monthly_report, \n",
    "    crawl_finance_statement_by_date,\n",
    "    \n",
    "    date_range, month_range, season_range\n",
    ")\n",
    "\n",
    "import sqlite3\n",
    "import os\n",
    "conn = sqlite3.connect(os.path.join('data', \"data.db\"))\n",
    "\n",
    "widget(conn, 'price', crawl_price, date_range)\n",
    "widget(conn, 'monthly_revenue', crawl_monthly_report, month_range)\n",
    "widget(conn, 'finance_statement', crawl_finance_statement_by_date, season_range)"
   ]
  },
  {
   "cell_type": "markdown",
   "metadata": {},
   "source": [
    "# 每季財報 時間區間補充：\n",
    "\n",
    "關於每季財報爬取，選取的時間範圍要「包含」以下時段，就能夠爬到截止日期的財報囉！例如：\n",
    "\n",
    "* 2010年3月31號 --> 2009 第四季\n",
    "* 2010年5月15號 --> 2010 第一季\n",
    "* 2010年8月14號 --> 2010 第二季\n",
    "* 2010年11月14號 --> 2010 第三季\n",
    "\n",
    "所以假如我們想要抓2018年的第一季，就可以輸入一個時間範圍，例如：\n",
    "\n",
    "* 2018年5月01號 到 2018年5月31號\n",
    "\n",
    "因為這段時間有包含 2018年5月15號，所以就會下載 2018年第一季的財報喔！"
   ]
  },
  {
   "cell_type": "markdown",
   "metadata": {},
   "source": [
    "# 程式化更新資料"
   ]
  },
  {
   "cell_type": "code",
   "execution_count": null,
   "metadata": {},
   "outputs": [],
   "source": [
    "from finlab.crawler import (\n",
    "    widget, \n",
    "    \n",
    "    crawl_price, \n",
    "    crawl_monthly_report, \n",
    "    crawl_finance_statement_by_date,\n",
    "    \n",
    "    date_range, month_range, season_range\n",
    ")\n",
    "\n",
    "import sqlite3\n",
    "import os\n",
    "conn = sqlite3.connect(os.path.join('data', \"data.db\"))\n",
    "import datetime\n",
    "from finlab.crawler import update_table\n",
    "import sqlite3\n",
    "import os\n",
    "conn = sqlite3.connect(os.path.join('data', \"data.db\"))\n",
    "#update_table(conn, 'price', crawl_price, [datetime.date(2018,3,26)])\n",
    "#update_table(conn, 'monthly_revenue', crawl_monthly_report, [datetime.date(2018,3,1)])\n",
    "update_table(conn, 'finance_statement', crawl_finance_statement_by_date, [datetime.date(2014,3,31)])"
   ]
  }
 ],
 "metadata": {
  "kernelspec": {
   "display_name": "Python 3",
   "language": "python",
   "name": "python3"
  },
  "language_info": {
   "codemirror_mode": {
    "name": "ipython",
    "version": 3
   },
   "file_extension": ".py",
   "mimetype": "text/x-python",
   "name": "python",
   "nbconvert_exporter": "python",
   "pygments_lexer": "ipython3",
   "version": "3.7.6"
  }
 },
 "nbformat": 4,
 "nbformat_minor": 2
}
